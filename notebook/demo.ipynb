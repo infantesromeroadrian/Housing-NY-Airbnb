{
 "cells": [
  {
   "cell_type": "markdown",
   "source": [
    "id: Identificador único del listado.\n",
    "NAME: Nombre del listado.\n",
    "host id: Identificador único del anfitrión.\n",
    "host_identity_verified: Si la identidad del anfitrión ha sido verificada.\n",
    "host name: Nombre del anfitrión.\n",
    "neighbourhood group: Grupo de barrios donde se ubica el listado.\n",
    "neighbourhood: Barrio específico donde se ubica el listado.\n",
    "lat: Latitud de la ubicación del listado.\n",
    "long: Longitud de la ubicación del listado.\n",
    "country: País del listado.\n",
    "instant_bookable: Si el listado puede ser reservado instantáneamente.\n",
    "cancellation_policy: Política de cancelación.\n",
    "room type: Tipo de habitación ofrecida.\n",
    "Construction year: Año de construcción del inmueble.\n",
    "price: Precio por noche.\n",
    "service fee: Tarifa de servicio.\n",
    "minimum nights: Mínimo de noches para reservar.\n",
    "number of reviews: Número de reseñas recibidas.\n",
    "last review: Fecha de la última reseña.\n",
    "reviews per month: Promedio de reseñas por mes.\n",
    "review rate number: Calificación de reseñas.\n",
    "calculated host listings count: Número total de listados del anfitrión.\n",
    "availability 365: Disponibilidad del listado durante el año.\n",
    "house_rules: Reglas de la casa.\n",
    "license: Licencia del listado, si aplica."
   ],
   "metadata": {
    "collapsed": false
   },
   "id": "a4b7af768e66ee3e"
  },
  {
   "cell_type": "code",
   "execution_count": 1,
   "id": "initial_id",
   "metadata": {
    "collapsed": true,
    "ExecuteTime": {
     "end_time": "2024-01-26T23:16:04.664842Z",
     "start_time": "2024-01-26T23:16:04.066411Z"
    }
   },
   "outputs": [],
   "source": [
    "import pandas as pd\n",
    "import logging\n",
    "\n",
    "logging.basicConfig(level=logging.INFO, format='%(asctime)s - %(levelname)s - %(message)s')\n",
    "\n",
    "class IngestorDeDatos:\n",
    "    def __init__(self, ruta_archivo):\n",
    "        self.ruta_archivo = ruta_archivo\n",
    "        logging.info(\"Ingestor de datos creado.\")\n",
    "\n",
    "    def cargar_datos(self):\n",
    "        try:\n",
    "            datos = pd.read_csv(self.ruta_archivo)\n",
    "            logging.info(\"Datos cargados exitosamente desde {}\".format(self.ruta_archivo))\n",
    "            return datos\n",
    "        except Exception as e:\n",
    "            logging.error(\"Error al cargar los datos desde {}: {}\".format(self.ruta_archivo, e))\n",
    "            return None"
   ]
  },
  {
   "cell_type": "code",
   "outputs": [
    {
     "name": "stderr",
     "output_type": "stream",
     "text": [
      "2024-01-27 00:16:05,647 - INFO - Ingestor de datos creado.\n",
      "/var/folders/mp/fzrlf51942906bzswqqlz7br0000gn/T/ipykernel_16296/1907047661.py:13: DtypeWarning: Columns (25) have mixed types. Specify dtype option on import or set low_memory=False.\n",
      "  datos = pd.read_csv(self.ruta_archivo)\n",
      "2024-01-27 00:16:06,098 - INFO - Datos cargados exitosamente desde /Users/adrianinfantes/Desktop/AIR/CollegeStudies/MachineLearningPath/Portfolio/AirbnbProjects/NyAirbnb/data/Airbnb_Open_Data.csv\n"
     ]
    },
    {
     "data": {
      "text/plain": "        id                                              NAME      host id  \\\n0  1001254                Clean & quiet apt home by the park  80014485718   \n1  1002102                             Skylit Midtown Castle  52335172823   \n2  1002403               THE VILLAGE OF HARLEM....NEW YORK !  78829239556   \n3  1002755                                               NaN  85098326012   \n4  1003689  Entire Apt: Spacious Studio/Loft by central park  92037596077   \n\n  host_identity_verified host name neighbourhood group neighbourhood  \\\n0            unconfirmed  Madaline            Brooklyn    Kensington   \n1               verified     Jenna           Manhattan       Midtown   \n2                    NaN     Elise           Manhattan        Harlem   \n3            unconfirmed     Garry            Brooklyn  Clinton Hill   \n4               verified    Lyndon           Manhattan   East Harlem   \n\n        lat      long        country  ... service fee minimum nights  \\\n0  40.64749 -73.97237  United States  ...       $193            10.0   \n1  40.75362 -73.98377  United States  ...        $28            30.0   \n2  40.80902 -73.94190  United States  ...       $124             3.0   \n3  40.68514 -73.95976  United States  ...        $74            30.0   \n4  40.79851 -73.94399  United States  ...        $41            10.0   \n\n  number of reviews last review  reviews per month review rate number  \\\n0               9.0  10/19/2021               0.21                4.0   \n1              45.0   5/21/2022               0.38                4.0   \n2               0.0         NaN                NaN                5.0   \n3             270.0    7/5/2019               4.64                4.0   \n4               9.0  11/19/2018               0.10                3.0   \n\n  calculated host listings count  availability 365  \\\n0                            6.0             286.0   \n1                            2.0             228.0   \n2                            1.0             352.0   \n3                            1.0             322.0   \n4                            1.0             289.0   \n\n                                         house_rules license  \n0  Clean up and treat the home the way you'd like...     NaN  \n1  Pet friendly but please confirm with me if the...     NaN  \n2  I encourage you to use my kitchen, cooking and...     NaN  \n3                                                NaN     NaN  \n4  Please no smoking in the house, porch or on th...     NaN  \n\n[5 rows x 26 columns]",
      "text/html": "<div>\n<style scoped>\n    .dataframe tbody tr th:only-of-type {\n        vertical-align: middle;\n    }\n\n    .dataframe tbody tr th {\n        vertical-align: top;\n    }\n\n    .dataframe thead th {\n        text-align: right;\n    }\n</style>\n<table border=\"1\" class=\"dataframe\">\n  <thead>\n    <tr style=\"text-align: right;\">\n      <th></th>\n      <th>id</th>\n      <th>NAME</th>\n      <th>host id</th>\n      <th>host_identity_verified</th>\n      <th>host name</th>\n      <th>neighbourhood group</th>\n      <th>neighbourhood</th>\n      <th>lat</th>\n      <th>long</th>\n      <th>country</th>\n      <th>...</th>\n      <th>service fee</th>\n      <th>minimum nights</th>\n      <th>number of reviews</th>\n      <th>last review</th>\n      <th>reviews per month</th>\n      <th>review rate number</th>\n      <th>calculated host listings count</th>\n      <th>availability 365</th>\n      <th>house_rules</th>\n      <th>license</th>\n    </tr>\n  </thead>\n  <tbody>\n    <tr>\n      <th>0</th>\n      <td>1001254</td>\n      <td>Clean &amp; quiet apt home by the park</td>\n      <td>80014485718</td>\n      <td>unconfirmed</td>\n      <td>Madaline</td>\n      <td>Brooklyn</td>\n      <td>Kensington</td>\n      <td>40.64749</td>\n      <td>-73.97237</td>\n      <td>United States</td>\n      <td>...</td>\n      <td>$193</td>\n      <td>10.0</td>\n      <td>9.0</td>\n      <td>10/19/2021</td>\n      <td>0.21</td>\n      <td>4.0</td>\n      <td>6.0</td>\n      <td>286.0</td>\n      <td>Clean up and treat the home the way you'd like...</td>\n      <td>NaN</td>\n    </tr>\n    <tr>\n      <th>1</th>\n      <td>1002102</td>\n      <td>Skylit Midtown Castle</td>\n      <td>52335172823</td>\n      <td>verified</td>\n      <td>Jenna</td>\n      <td>Manhattan</td>\n      <td>Midtown</td>\n      <td>40.75362</td>\n      <td>-73.98377</td>\n      <td>United States</td>\n      <td>...</td>\n      <td>$28</td>\n      <td>30.0</td>\n      <td>45.0</td>\n      <td>5/21/2022</td>\n      <td>0.38</td>\n      <td>4.0</td>\n      <td>2.0</td>\n      <td>228.0</td>\n      <td>Pet friendly but please confirm with me if the...</td>\n      <td>NaN</td>\n    </tr>\n    <tr>\n      <th>2</th>\n      <td>1002403</td>\n      <td>THE VILLAGE OF HARLEM....NEW YORK !</td>\n      <td>78829239556</td>\n      <td>NaN</td>\n      <td>Elise</td>\n      <td>Manhattan</td>\n      <td>Harlem</td>\n      <td>40.80902</td>\n      <td>-73.94190</td>\n      <td>United States</td>\n      <td>...</td>\n      <td>$124</td>\n      <td>3.0</td>\n      <td>0.0</td>\n      <td>NaN</td>\n      <td>NaN</td>\n      <td>5.0</td>\n      <td>1.0</td>\n      <td>352.0</td>\n      <td>I encourage you to use my kitchen, cooking and...</td>\n      <td>NaN</td>\n    </tr>\n    <tr>\n      <th>3</th>\n      <td>1002755</td>\n      <td>NaN</td>\n      <td>85098326012</td>\n      <td>unconfirmed</td>\n      <td>Garry</td>\n      <td>Brooklyn</td>\n      <td>Clinton Hill</td>\n      <td>40.68514</td>\n      <td>-73.95976</td>\n      <td>United States</td>\n      <td>...</td>\n      <td>$74</td>\n      <td>30.0</td>\n      <td>270.0</td>\n      <td>7/5/2019</td>\n      <td>4.64</td>\n      <td>4.0</td>\n      <td>1.0</td>\n      <td>322.0</td>\n      <td>NaN</td>\n      <td>NaN</td>\n    </tr>\n    <tr>\n      <th>4</th>\n      <td>1003689</td>\n      <td>Entire Apt: Spacious Studio/Loft by central park</td>\n      <td>92037596077</td>\n      <td>verified</td>\n      <td>Lyndon</td>\n      <td>Manhattan</td>\n      <td>East Harlem</td>\n      <td>40.79851</td>\n      <td>-73.94399</td>\n      <td>United States</td>\n      <td>...</td>\n      <td>$41</td>\n      <td>10.0</td>\n      <td>9.0</td>\n      <td>11/19/2018</td>\n      <td>0.10</td>\n      <td>3.0</td>\n      <td>1.0</td>\n      <td>289.0</td>\n      <td>Please no smoking in the house, porch or on th...</td>\n      <td>NaN</td>\n    </tr>\n  </tbody>\n</table>\n<p>5 rows × 26 columns</p>\n</div>"
     },
     "execution_count": 2,
     "metadata": {},
     "output_type": "execute_result"
    }
   ],
   "source": [
    "# Uso del ingestor de datos\n",
    "\n",
    "ingestor = IngestorDeDatos(\"/Users/adrianinfantes/Desktop/AIR/CollegeStudies/MachineLearningPath/Portfolio/AirbnbProjects/NyAirbnb/data/Airbnb_Open_Data.csv\")\n",
    "datos = ingestor.cargar_datos()\n",
    "datos.head()"
   ],
   "metadata": {
    "collapsed": false,
    "ExecuteTime": {
     "end_time": "2024-01-26T23:16:06.188314Z",
     "start_time": "2024-01-26T23:16:05.648912Z"
    }
   },
   "id": "ade1fd3d099099d1",
   "execution_count": 2
  },
  {
   "cell_type": "code",
   "outputs": [],
   "source": [
    "class ExploradorDeDatos:\n",
    "    def __init__(self, datos):\n",
    "        self.datos = datos\n",
    "        logging.info(\"Explorador de datos creado.\")\n",
    "\n",
    "    def mostrar_info(self):\n",
    "        try:\n",
    "            logging.info(\"Mostrando información general del DataFrame.\")\n",
    "            print(self.datos.info())\n",
    "        except Exception as e:\n",
    "            logging.error(f\"Error al mostrar información del DataFrame: {e}\")\n",
    "\n",
    "    def resumen_estadistico(self):\n",
    "        try:\n",
    "            logging.info(\"Mostrando resumen estadístico del DataFrame.\")\n",
    "            print(self.datos.describe())\n",
    "        except Exception as e:\n",
    "            logging.error(f\"Error al mostrar resumen estadístico: {e}\")\n",
    "\n",
    "    def conteo_nulos(self):\n",
    "        try:\n",
    "            nulos = self.datos.isnull().sum()\n",
    "            logging.info(\"Mostrando conteo de valores nulos por columna.\")\n",
    "            print(nulos)\n",
    "        except Exception as e:\n",
    "            logging.error(f\"Error al mostrar conteo de nulos: {e}\")"
   ],
   "metadata": {
    "collapsed": false,
    "ExecuteTime": {
     "end_time": "2024-01-26T23:16:06.999282Z",
     "start_time": "2024-01-26T23:16:06.987979Z"
    }
   },
   "id": "20459f368995cad7",
   "execution_count": 3
  },
  {
   "cell_type": "code",
   "outputs": [
    {
     "name": "stderr",
     "output_type": "stream",
     "text": [
      "2024-01-27 00:16:07,951 - INFO - Explorador de datos creado.\n",
      "2024-01-27 00:16:07,952 - INFO - Mostrando información general del DataFrame.\n"
     ]
    },
    {
     "name": "stdout",
     "output_type": "stream",
     "text": [
      "<class 'pandas.core.frame.DataFrame'>\n",
      "RangeIndex: 102599 entries, 0 to 102598\n",
      "Data columns (total 26 columns):\n",
      " #   Column                          Non-Null Count   Dtype  \n",
      "---  ------                          --------------   -----  \n",
      " 0   id                              102599 non-null  int64  \n",
      " 1   NAME                            102349 non-null  object \n",
      " 2   host id                         102599 non-null  int64  \n",
      " 3   host_identity_verified          102310 non-null  object \n",
      " 4   host name                       102193 non-null  object \n",
      " 5   neighbourhood group             102570 non-null  object \n",
      " 6   neighbourhood                   102583 non-null  object \n",
      " 7   lat                             102591 non-null  float64\n",
      " 8   long                            102591 non-null  float64\n",
      " 9   country                         102067 non-null  object \n",
      " 10  country code                    102468 non-null  object \n",
      " 11  instant_bookable                102494 non-null  object \n",
      " 12  cancellation_policy             102523 non-null  object \n",
      " 13  room type                       102599 non-null  object \n",
      " 14  Construction year               102385 non-null  float64\n",
      " 15  price                           102352 non-null  object \n",
      " 16  service fee                     102326 non-null  object \n",
      " 17  minimum nights                  102190 non-null  float64\n",
      " 18  number of reviews               102416 non-null  float64\n",
      " 19  last review                     86706 non-null   object \n",
      " 20  reviews per month               86720 non-null   float64\n",
      " 21  review rate number              102273 non-null  float64\n",
      " 22  calculated host listings count  102280 non-null  float64\n",
      " 23  availability 365                102151 non-null  float64\n",
      " 24  house_rules                     50468 non-null   object \n",
      " 25  license                         2 non-null       object \n",
      "dtypes: float64(9), int64(2), object(15)\n",
      "memory usage: 20.4+ MB\n",
      "None\n"
     ]
    }
   ],
   "source": [
    "# Uso del explorador de datos\n",
    "\n",
    "explorador = ExploradorDeDatos(datos)\n",
    "explorador.mostrar_info()"
   ],
   "metadata": {
    "collapsed": false,
    "ExecuteTime": {
     "end_time": "2024-01-26T23:16:07.996247Z",
     "start_time": "2024-01-26T23:16:07.953263Z"
    }
   },
   "id": "749827b7b46bd90d",
   "execution_count": 4
  },
  {
   "cell_type": "code",
   "outputs": [
    {
     "name": "stderr",
     "output_type": "stream",
     "text": [
      "2024-01-27 00:16:08,699 - INFO - Mostrando resumen estadístico del DataFrame.\n"
     ]
    },
    {
     "name": "stdout",
     "output_type": "stream",
     "text": [
      "                 id       host id            lat           long  \\\n",
      "count  1.025990e+05  1.025990e+05  102591.000000  102591.000000   \n",
      "mean   2.914623e+07  4.925411e+10      40.728094     -73.949644   \n",
      "std    1.625751e+07  2.853900e+10       0.055857       0.049521   \n",
      "min    1.001254e+06  1.236005e+08      40.499790     -74.249840   \n",
      "25%    1.508581e+07  2.458333e+10      40.688740     -73.982580   \n",
      "50%    2.913660e+07  4.911774e+10      40.722290     -73.954440   \n",
      "75%    4.320120e+07  7.399650e+10      40.762760     -73.932350   \n",
      "max    5.736742e+07  9.876313e+10      40.916970     -73.705220   \n",
      "\n",
      "       Construction year  minimum nights  number of reviews  \\\n",
      "count      102385.000000   102190.000000      102416.000000   \n",
      "mean         2012.487464        8.135845          27.483743   \n",
      "std             5.765556       30.553781          49.508954   \n",
      "min          2003.000000    -1223.000000           0.000000   \n",
      "25%          2007.000000        2.000000           1.000000   \n",
      "50%          2012.000000        3.000000           7.000000   \n",
      "75%          2017.000000        5.000000          30.000000   \n",
      "max          2022.000000     5645.000000        1024.000000   \n",
      "\n",
      "       reviews per month  review rate number  calculated host listings count  \\\n",
      "count       86720.000000       102273.000000                   102280.000000   \n",
      "mean            1.374022            3.279106                        7.936605   \n",
      "std             1.746621            1.284657                       32.218780   \n",
      "min             0.010000            1.000000                        1.000000   \n",
      "25%             0.220000            2.000000                        1.000000   \n",
      "50%             0.740000            3.000000                        1.000000   \n",
      "75%             2.000000            4.000000                        2.000000   \n",
      "max            90.000000            5.000000                      332.000000   \n",
      "\n",
      "       availability 365  \n",
      "count     102151.000000  \n",
      "mean         141.133254  \n",
      "std          135.435024  \n",
      "min          -10.000000  \n",
      "25%            3.000000  \n",
      "50%           96.000000  \n",
      "75%          269.000000  \n",
      "max         3677.000000  \n"
     ]
    }
   ],
   "source": [
    "explorador.resumen_estadistico()"
   ],
   "metadata": {
    "collapsed": false,
    "ExecuteTime": {
     "end_time": "2024-01-26T23:16:08.748508Z",
     "start_time": "2024-01-26T23:16:08.701355Z"
    }
   },
   "id": "9172d04fc2c09e89",
   "execution_count": 5
  },
  {
   "cell_type": "code",
   "outputs": [
    {
     "name": "stderr",
     "output_type": "stream",
     "text": [
      "2024-01-27 00:16:09,342 - INFO - Mostrando conteo de valores nulos por columna.\n"
     ]
    },
    {
     "name": "stdout",
     "output_type": "stream",
     "text": [
      "id                                     0\n",
      "NAME                                 250\n",
      "host id                                0\n",
      "host_identity_verified               289\n",
      "host name                            406\n",
      "neighbourhood group                   29\n",
      "neighbourhood                         16\n",
      "lat                                    8\n",
      "long                                   8\n",
      "country                              532\n",
      "country code                         131\n",
      "instant_bookable                     105\n",
      "cancellation_policy                   76\n",
      "room type                              0\n",
      "Construction year                    214\n",
      "price                                247\n",
      "service fee                          273\n",
      "minimum nights                       409\n",
      "number of reviews                    183\n",
      "last review                        15893\n",
      "reviews per month                  15879\n",
      "review rate number                   326\n",
      "calculated host listings count       319\n",
      "availability 365                     448\n",
      "house_rules                        52131\n",
      "license                           102597\n",
      "dtype: int64\n"
     ]
    }
   ],
   "source": [
    "explorador.conteo_nulos()"
   ],
   "metadata": {
    "collapsed": false,
    "ExecuteTime": {
     "end_time": "2024-01-26T23:16:09.350172Z",
     "start_time": "2024-01-26T23:16:09.342173Z"
    }
   },
   "id": "c2f69ca7ada669a9",
   "execution_count": 6
  },
  {
   "cell_type": "code",
   "outputs": [],
   "source": [
    "class LimpiadorDeDatos:\n",
    "    def __init__(self, datos):\n",
    "        self.datos = datos\n",
    "        logging.info(\"Limpiador de datos creado.\")\n",
    "\n",
    "    def manejar_nulos(self):\n",
    "        try:\n",
    "            for columna in self.datos.columns:\n",
    "                if self.datos[columna].dtype == 'object':\n",
    "                    # Modificación aquí: Asignar el resultado de fillna directamente\n",
    "                    self.datos[columna] = self.datos[columna].fillna(self.datos[columna].mode()[0])\n",
    "                else:\n",
    "                    # Igualmente aquí\n",
    "                    self.datos[columna] = self.datos[columna].fillna(self.datos[columna].median())\n",
    "            logging.info(\"Valores nulos manejados.\")\n",
    "        except Exception as e:\n",
    "            logging.error(f\"Error al manejar valores nulos: {e}\")\n",
    "\n",
    "    def corregir_datos_atipicos(self):\n",
    "        try:\n",
    "            for columna in ['minimum nights', 'availability 365']:\n",
    "                q1 = self.datos[columna].quantile(0.25)\n",
    "                q3 = self.datos[columna].quantile(0.75)\n",
    "                iqr = q3 - q1\n",
    "                limite_inferior = q1 - 1.5 * iqr\n",
    "                limite_superior = q3 + 1.5 * iqr\n",
    "                self.datos = self.datos[(self.datos[columna] >= limite_inferior) & (self.datos[columna] <= limite_superior)]\n",
    "            logging.info(\"Datos atípicos corregidos.\")\n",
    "        except Exception as e:\n",
    "            logging.error(f\"Error al corregir datos atípicos: {e}\")\n",
    "\n",
    "    def limpiar_datos(self):\n",
    "        try:\n",
    "            self.manejar_nulos()\n",
    "            self.corregir_datos_atipicos()\n",
    "            logging.info(\"Datos limpiados exitosamente.\")\n",
    "            return self.datos\n",
    "        except Exception as e:\n",
    "            logging.error(f\"Error durante la limpieza de datos: {e}\")\n",
    "            return None"
   ],
   "metadata": {
    "collapsed": false,
    "ExecuteTime": {
     "end_time": "2024-01-26T23:16:09.879257Z",
     "start_time": "2024-01-26T23:16:09.874723Z"
    }
   },
   "id": "bc2fbf5cd93f8d6a",
   "execution_count": 7
  },
  {
   "cell_type": "code",
   "outputs": [
    {
     "name": "stderr",
     "output_type": "stream",
     "text": [
      "2024-01-27 00:16:10,487 - INFO - Limpiador de datos creado.\n",
      "/var/folders/mp/fzrlf51942906bzswqqlz7br0000gn/T/ipykernel_16296/603555156.py:11: FutureWarning: Downcasting object dtype arrays on .fillna, .ffill, .bfill is deprecated and will change in a future version. Call result.infer_objects(copy=False) instead. To opt-in to the future behavior, set `pd.set_option('future.no_silent_downcasting', True)`\n",
      "  self.datos[columna] = self.datos[columna].fillna(self.datos[columna].mode()[0])\n",
      "2024-01-27 00:16:10,630 - INFO - Valores nulos manejados.\n",
      "2024-01-27 00:16:10,664 - INFO - Datos atípicos corregidos.\n",
      "2024-01-27 00:16:10,665 - INFO - Datos limpiados exitosamente.\n"
     ]
    },
    {
     "data": {
      "text/plain": "         id                                       NAME      host id  \\\n2   1002403        THE VILLAGE OF HARLEM....NEW YORK !  78829239556   \n5   1004098  Large Cozy 1 BR Apartment In Midtown East  45498551794   \n8   1005754            Large Furnished Room Near B'way  79384379533   \n9   1006307         Cozy Clean Guest Room - Family Apt  75527839483   \n10  1006859         Cute & Cozy Lower East Side 1 bdrm   1280143094   \n\n   host_identity_verified host name neighbourhood group    neighbourhood  \\\n2             unconfirmed     Elise           Manhattan           Harlem   \n5                verified  Michelle           Manhattan      Murray Hill   \n8                verified    Evelyn           Manhattan   Hell's Kitchen   \n9             unconfirmed      Carl           Manhattan  Upper West Side   \n10               verified   Miranda           Manhattan        Chinatown   \n\n         lat      long        country  ... service fee  minimum nights  \\\n2   40.80902 -73.94190  United States  ...       $124              3.0   \n5   40.74767 -73.97500  United States  ...       $115              3.0   \n8   40.76489 -73.98493  United States  ...       $204              2.0   \n9   40.80178 -73.96723  United States  ...        $58              2.0   \n10  40.71344 -73.99037  United States  ...        $64              1.0   \n\n   number of reviews last review  reviews per month review rate number  \\\n2                0.0   6/23/2019               0.74                5.0   \n5               74.0   6/22/2019               0.59                3.0   \n8              430.0   6/24/2019               3.47                3.0   \n9              118.0   7/21/2017               0.99                5.0   \n10             160.0    6/9/2019               1.33                3.0   \n\n   calculated host listings count  availability 365  \\\n2                             1.0             352.0   \n5                             1.0             374.0   \n8                             1.0             180.0   \n9                             1.0             375.0   \n10                            4.0               1.0   \n\n                                          house_rules   license  \n2   I encourage you to use my kitchen, cooking and...  41662/AL  \n5                   No smoking, please, and no drugs.  41662/AL  \n8   - Please clean up after yourself when using th...  41662/AL  \n9   NO SMOKING OR PETS ANYWHERE ON THE PROPERTY 1....  41662/AL  \n10                                             #NAME?  41662/AL  \n\n[5 rows x 26 columns]",
      "text/html": "<div>\n<style scoped>\n    .dataframe tbody tr th:only-of-type {\n        vertical-align: middle;\n    }\n\n    .dataframe tbody tr th {\n        vertical-align: top;\n    }\n\n    .dataframe thead th {\n        text-align: right;\n    }\n</style>\n<table border=\"1\" class=\"dataframe\">\n  <thead>\n    <tr style=\"text-align: right;\">\n      <th></th>\n      <th>id</th>\n      <th>NAME</th>\n      <th>host id</th>\n      <th>host_identity_verified</th>\n      <th>host name</th>\n      <th>neighbourhood group</th>\n      <th>neighbourhood</th>\n      <th>lat</th>\n      <th>long</th>\n      <th>country</th>\n      <th>...</th>\n      <th>service fee</th>\n      <th>minimum nights</th>\n      <th>number of reviews</th>\n      <th>last review</th>\n      <th>reviews per month</th>\n      <th>review rate number</th>\n      <th>calculated host listings count</th>\n      <th>availability 365</th>\n      <th>house_rules</th>\n      <th>license</th>\n    </tr>\n  </thead>\n  <tbody>\n    <tr>\n      <th>2</th>\n      <td>1002403</td>\n      <td>THE VILLAGE OF HARLEM....NEW YORK !</td>\n      <td>78829239556</td>\n      <td>unconfirmed</td>\n      <td>Elise</td>\n      <td>Manhattan</td>\n      <td>Harlem</td>\n      <td>40.80902</td>\n      <td>-73.94190</td>\n      <td>United States</td>\n      <td>...</td>\n      <td>$124</td>\n      <td>3.0</td>\n      <td>0.0</td>\n      <td>6/23/2019</td>\n      <td>0.74</td>\n      <td>5.0</td>\n      <td>1.0</td>\n      <td>352.0</td>\n      <td>I encourage you to use my kitchen, cooking and...</td>\n      <td>41662/AL</td>\n    </tr>\n    <tr>\n      <th>5</th>\n      <td>1004098</td>\n      <td>Large Cozy 1 BR Apartment In Midtown East</td>\n      <td>45498551794</td>\n      <td>verified</td>\n      <td>Michelle</td>\n      <td>Manhattan</td>\n      <td>Murray Hill</td>\n      <td>40.74767</td>\n      <td>-73.97500</td>\n      <td>United States</td>\n      <td>...</td>\n      <td>$115</td>\n      <td>3.0</td>\n      <td>74.0</td>\n      <td>6/22/2019</td>\n      <td>0.59</td>\n      <td>3.0</td>\n      <td>1.0</td>\n      <td>374.0</td>\n      <td>No smoking, please, and no drugs.</td>\n      <td>41662/AL</td>\n    </tr>\n    <tr>\n      <th>8</th>\n      <td>1005754</td>\n      <td>Large Furnished Room Near B'way</td>\n      <td>79384379533</td>\n      <td>verified</td>\n      <td>Evelyn</td>\n      <td>Manhattan</td>\n      <td>Hell's Kitchen</td>\n      <td>40.76489</td>\n      <td>-73.98493</td>\n      <td>United States</td>\n      <td>...</td>\n      <td>$204</td>\n      <td>2.0</td>\n      <td>430.0</td>\n      <td>6/24/2019</td>\n      <td>3.47</td>\n      <td>3.0</td>\n      <td>1.0</td>\n      <td>180.0</td>\n      <td>- Please clean up after yourself when using th...</td>\n      <td>41662/AL</td>\n    </tr>\n    <tr>\n      <th>9</th>\n      <td>1006307</td>\n      <td>Cozy Clean Guest Room - Family Apt</td>\n      <td>75527839483</td>\n      <td>unconfirmed</td>\n      <td>Carl</td>\n      <td>Manhattan</td>\n      <td>Upper West Side</td>\n      <td>40.80178</td>\n      <td>-73.96723</td>\n      <td>United States</td>\n      <td>...</td>\n      <td>$58</td>\n      <td>2.0</td>\n      <td>118.0</td>\n      <td>7/21/2017</td>\n      <td>0.99</td>\n      <td>5.0</td>\n      <td>1.0</td>\n      <td>375.0</td>\n      <td>NO SMOKING OR PETS ANYWHERE ON THE PROPERTY 1....</td>\n      <td>41662/AL</td>\n    </tr>\n    <tr>\n      <th>10</th>\n      <td>1006859</td>\n      <td>Cute &amp; Cozy Lower East Side 1 bdrm</td>\n      <td>1280143094</td>\n      <td>verified</td>\n      <td>Miranda</td>\n      <td>Manhattan</td>\n      <td>Chinatown</td>\n      <td>40.71344</td>\n      <td>-73.99037</td>\n      <td>United States</td>\n      <td>...</td>\n      <td>$64</td>\n      <td>1.0</td>\n      <td>160.0</td>\n      <td>6/9/2019</td>\n      <td>1.33</td>\n      <td>3.0</td>\n      <td>4.0</td>\n      <td>1.0</td>\n      <td>#NAME?</td>\n      <td>41662/AL</td>\n    </tr>\n  </tbody>\n</table>\n<p>5 rows × 26 columns</p>\n</div>"
     },
     "execution_count": 8,
     "metadata": {},
     "output_type": "execute_result"
    }
   ],
   "source": [
    "# Uso del limpiador de datos\n",
    "\n",
    "limpiador = LimpiadorDeDatos(datos)\n",
    "datos_limpios = limpiador.limpiar_datos()\n",
    "datos_limpios.head()"
   ],
   "metadata": {
    "collapsed": false,
    "ExecuteTime": {
     "end_time": "2024-01-26T23:16:10.675982Z",
     "start_time": "2024-01-26T23:16:10.488694Z"
    }
   },
   "id": "b364fa111d5ad433",
   "execution_count": 8
  },
  {
   "cell_type": "code",
   "outputs": [],
   "source": [
    "import pandas as pd\n",
    "import numpy as np\n",
    "from sklearn.preprocessing import OneHotEncoder\n",
    "import logging\n",
    "\n",
    "class IngenieroDeCaracteristicas:\n",
    "    def __init__(self, datos):\n",
    "        \"\"\"\n",
    "        Inicializa el ingeniero de características con un DataFrame de Pandas.\n",
    "        :param datos: DataFrame de Pandas con los datos.\n",
    "        \"\"\"\n",
    "        self.datos = datos\n",
    "        logging.info(\"Ingeniero de características creado.\")\n",
    "\n",
    "    def aplicar_one_hot_encoding(self):\n",
    "        \"\"\"\n",
    "        Aplica One-Hot Encoding a las columnas categóricas especificadas.\n",
    "        \"\"\"\n",
    "        try:\n",
    "            # Reiniciar índice del DataFrame\n",
    "            self.datos.reset_index(drop=True, inplace=True)\n",
    "\n",
    "            one_hot_columns = ['host_identity_verified', 'neighbourhood group', 'cancellation_policy', 'room type']\n",
    "\n",
    "            # Rellenar valores nulos en columnas categóricas\n",
    "            for col in one_hot_columns:\n",
    "                self.datos[col] = self.datos[col].fillna('Desconocido')\n",
    "\n",
    "            encoder = OneHotEncoder(drop='first')\n",
    "            one_hot_encoded = encoder.fit_transform(self.datos[one_hot_columns]).toarray()\n",
    "            columnas_encoded = encoder.get_feature_names_out(one_hot_columns)\n",
    "            df_encoded = pd.DataFrame(one_hot_encoded, columns=columnas_encoded)\n",
    "            self.datos = self.datos.join(df_encoded).drop(one_hot_columns, axis=1)\n",
    "            logging.info(\"One-hot encoding aplicado.\")\n",
    "        except Exception as e:\n",
    "            logging.error(f\"Error al aplicar one-hot encoding: {e}\")\n",
    "\n",
    "    def convertir_fechas(self):\n",
    "        \"\"\"\n",
    "        Convierte columnas de fecha a formato numérico (año, mes, día).\n",
    "        \"\"\"\n",
    "        try:\n",
    "            formato_fecha = '%m/%d/%Y'  # Modifica según el formato correcto\n",
    "            for col in self.datos.select_dtypes(include=['object']):\n",
    "                if 'review' in col:  # Ajusta según el nombre de tu columna\n",
    "                    self.datos[col] = pd.to_datetime(self.datos[col], format=formato_fecha, errors='coerce')\n",
    "\n",
    "                if np.issubdtype(self.datos[col].dtype, np.datetime64):\n",
    "                    self.datos[col + '_year'] = self.datos[col].dt.year\n",
    "                    self.datos[col + '_month'] = self.datos[col].dt.month\n",
    "                    self.datos[col + '_day'] = self.datos[col].dt.day\n",
    "                    self.datos.drop(col, axis=1, inplace=True)\n",
    "            logging.info(\"Columnas de fecha transformadas a características numéricas.\")\n",
    "        except Exception as e:\n",
    "            logging.error(f\"Error al convertir columnas de fecha: {e}\")\n",
    "\n",
    "    def convertir_numeros(self):\n",
    "        \"\"\"\n",
    "        Convierte columnas de precio y tarifa de servicio a tipo numérico.\n",
    "        \"\"\"\n",
    "        try:\n",
    "            self.datos['price'] = self.datos['price'].astype(str)\n",
    "            self.datos['service fee'] = self.datos['service fee'].astype(str)\n",
    "\n",
    "            self.datos['price'] = self.datos['price'].str.replace('[\\$,]', '', regex=True).astype(float)\n",
    "            self.datos['service fee'] = self.datos['service fee'].str.replace('[\\$,]', '', regex=True).astype(float)\n",
    "            logging.info(\"Columnas convertidas a tipo numérico.\")\n",
    "        except Exception as e:\n",
    "            logging.error(f\"Error al convertir columnas a tipo numérico: {e}\")\n",
    "\n",
    "    def transformar_caracteristicas(self):\n",
    "        \"\"\"\n",
    "        Ejecuta todas las transformaciones de características definidas.\n",
    "        \"\"\"\n",
    "        try:\n",
    "            self.aplicar_one_hot_encoding()\n",
    "            self.convertir_fechas()\n",
    "            self.convertir_numeros()\n",
    "            logging.info(\"Transformación de características completada.\")\n",
    "            return self.datos\n",
    "        except Exception as e:\n",
    "            logging.error(f\"Error durante la transformación de características: {e}\")\n",
    "            return None"
   ],
   "metadata": {
    "collapsed": false,
    "ExecuteTime": {
     "end_time": "2024-01-26T23:16:11.979856Z",
     "start_time": "2024-01-26T23:16:11.270258Z"
    }
   },
   "id": "29ead3f3dc5d65fb",
   "execution_count": 9
  },
  {
   "cell_type": "code",
   "outputs": [
    {
     "name": "stderr",
     "output_type": "stream",
     "text": [
      "2024-01-27 00:16:11,976 - INFO - Ingeniero de características creado.\n",
      "2024-01-27 00:16:12,094 - INFO - One-hot encoding aplicado.\n",
      "2024-01-27 00:16:12,129 - INFO - Columnas de fecha transformadas a características numéricas.\n",
      "2024-01-27 00:16:12,185 - INFO - Columnas convertidas a tipo numérico.\n",
      "2024-01-27 00:16:12,185 - INFO - Transformación de características completada.\n"
     ]
    },
    {
     "data": {
      "text/plain": "        id                                       NAME      host id host name  \\\n0  1002403        THE VILLAGE OF HARLEM....NEW YORK !  78829239556     Elise   \n1  1004098  Large Cozy 1 BR Apartment In Midtown East  45498551794  Michelle   \n2  1005754            Large Furnished Room Near B'way  79384379533    Evelyn   \n3  1006307         Cozy Clean Guest Room - Family Apt  75527839483      Carl   \n4  1006859         Cute & Cozy Lower East Side 1 bdrm   1280143094   Miranda   \n\n     neighbourhood       lat      long        country country code  \\\n0           Harlem  40.80902 -73.94190  United States           US   \n1      Murray Hill  40.74767 -73.97500  United States           US   \n2   Hell's Kitchen  40.76489 -73.98493  United States           US   \n3  Upper West Side  40.80178 -73.96723  United States           US   \n4        Chinatown  40.71344 -73.99037  United States           US   \n\n   instant_bookable  ...  neighbourhood group_brookln  \\\n0              True  ...                          0.0   \n1              True  ...                          0.0   \n2              True  ...                          0.0   \n3             False  ...                          0.0   \n4             False  ...                          0.0   \n\n   neighbourhood group_manhatan  cancellation_policy_moderate  \\\n0                           0.0                           0.0   \n1                           0.0                           0.0   \n2                           0.0                           0.0   \n3                           0.0                           0.0   \n4                           0.0                           0.0   \n\n   cancellation_policy_strict  room type_Hotel room  room type_Private room  \\\n0                         0.0                   0.0                     1.0   \n1                         0.0                   0.0                     0.0   \n2                         1.0                   0.0                     1.0   \n3                         1.0                   0.0                     1.0   \n4                         0.0                   0.0                     0.0   \n\n   room type_Shared room  last review_year  last review_month last review_day  \n0                    0.0              2019                  6              23  \n1                    0.0              2019                  6              22  \n2                    0.0              2019                  6              24  \n3                    0.0              2017                  7              21  \n4                    0.0              2019                  6               9  \n\n[5 rows x 36 columns]",
      "text/html": "<div>\n<style scoped>\n    .dataframe tbody tr th:only-of-type {\n        vertical-align: middle;\n    }\n\n    .dataframe tbody tr th {\n        vertical-align: top;\n    }\n\n    .dataframe thead th {\n        text-align: right;\n    }\n</style>\n<table border=\"1\" class=\"dataframe\">\n  <thead>\n    <tr style=\"text-align: right;\">\n      <th></th>\n      <th>id</th>\n      <th>NAME</th>\n      <th>host id</th>\n      <th>host name</th>\n      <th>neighbourhood</th>\n      <th>lat</th>\n      <th>long</th>\n      <th>country</th>\n      <th>country code</th>\n      <th>instant_bookable</th>\n      <th>...</th>\n      <th>neighbourhood group_brookln</th>\n      <th>neighbourhood group_manhatan</th>\n      <th>cancellation_policy_moderate</th>\n      <th>cancellation_policy_strict</th>\n      <th>room type_Hotel room</th>\n      <th>room type_Private room</th>\n      <th>room type_Shared room</th>\n      <th>last review_year</th>\n      <th>last review_month</th>\n      <th>last review_day</th>\n    </tr>\n  </thead>\n  <tbody>\n    <tr>\n      <th>0</th>\n      <td>1002403</td>\n      <td>THE VILLAGE OF HARLEM....NEW YORK !</td>\n      <td>78829239556</td>\n      <td>Elise</td>\n      <td>Harlem</td>\n      <td>40.80902</td>\n      <td>-73.94190</td>\n      <td>United States</td>\n      <td>US</td>\n      <td>True</td>\n      <td>...</td>\n      <td>0.0</td>\n      <td>0.0</td>\n      <td>0.0</td>\n      <td>0.0</td>\n      <td>0.0</td>\n      <td>1.0</td>\n      <td>0.0</td>\n      <td>2019</td>\n      <td>6</td>\n      <td>23</td>\n    </tr>\n    <tr>\n      <th>1</th>\n      <td>1004098</td>\n      <td>Large Cozy 1 BR Apartment In Midtown East</td>\n      <td>45498551794</td>\n      <td>Michelle</td>\n      <td>Murray Hill</td>\n      <td>40.74767</td>\n      <td>-73.97500</td>\n      <td>United States</td>\n      <td>US</td>\n      <td>True</td>\n      <td>...</td>\n      <td>0.0</td>\n      <td>0.0</td>\n      <td>0.0</td>\n      <td>0.0</td>\n      <td>0.0</td>\n      <td>0.0</td>\n      <td>0.0</td>\n      <td>2019</td>\n      <td>6</td>\n      <td>22</td>\n    </tr>\n    <tr>\n      <th>2</th>\n      <td>1005754</td>\n      <td>Large Furnished Room Near B'way</td>\n      <td>79384379533</td>\n      <td>Evelyn</td>\n      <td>Hell's Kitchen</td>\n      <td>40.76489</td>\n      <td>-73.98493</td>\n      <td>United States</td>\n      <td>US</td>\n      <td>True</td>\n      <td>...</td>\n      <td>0.0</td>\n      <td>0.0</td>\n      <td>0.0</td>\n      <td>1.0</td>\n      <td>0.0</td>\n      <td>1.0</td>\n      <td>0.0</td>\n      <td>2019</td>\n      <td>6</td>\n      <td>24</td>\n    </tr>\n    <tr>\n      <th>3</th>\n      <td>1006307</td>\n      <td>Cozy Clean Guest Room - Family Apt</td>\n      <td>75527839483</td>\n      <td>Carl</td>\n      <td>Upper West Side</td>\n      <td>40.80178</td>\n      <td>-73.96723</td>\n      <td>United States</td>\n      <td>US</td>\n      <td>False</td>\n      <td>...</td>\n      <td>0.0</td>\n      <td>0.0</td>\n      <td>0.0</td>\n      <td>1.0</td>\n      <td>0.0</td>\n      <td>1.0</td>\n      <td>0.0</td>\n      <td>2017</td>\n      <td>7</td>\n      <td>21</td>\n    </tr>\n    <tr>\n      <th>4</th>\n      <td>1006859</td>\n      <td>Cute &amp; Cozy Lower East Side 1 bdrm</td>\n      <td>1280143094</td>\n      <td>Miranda</td>\n      <td>Chinatown</td>\n      <td>40.71344</td>\n      <td>-73.99037</td>\n      <td>United States</td>\n      <td>US</td>\n      <td>False</td>\n      <td>...</td>\n      <td>0.0</td>\n      <td>0.0</td>\n      <td>0.0</td>\n      <td>0.0</td>\n      <td>0.0</td>\n      <td>0.0</td>\n      <td>0.0</td>\n      <td>2019</td>\n      <td>6</td>\n      <td>9</td>\n    </tr>\n  </tbody>\n</table>\n<p>5 rows × 36 columns</p>\n</div>"
     },
     "execution_count": 10,
     "metadata": {},
     "output_type": "execute_result"
    }
   ],
   "source": [
    "# Uso del ingeniero de características\n",
    "\n",
    "ingeniero = IngenieroDeCaracteristicas(datos_limpios)\n",
    "datos_transformados = ingeniero.transformar_caracteristicas()\n",
    "datos_transformados.head()"
   ],
   "metadata": {
    "collapsed": false,
    "ExecuteTime": {
     "end_time": "2024-01-26T23:16:12.199497Z",
     "start_time": "2024-01-26T23:16:11.977834Z"
    }
   },
   "id": "5faf4c8eca4dfe0e",
   "execution_count": 10
  },
  {
   "cell_type": "code",
   "outputs": [],
   "source": [
    "from sklearn.model_selection import train_test_split\n",
    "import logging\n",
    "\n",
    "class DivisorDeDatos:\n",
    "    def __init__(self, datos):\n",
    "        self.datos = datos\n",
    "        logging.info(\"Divisor de datos creado.\")\n",
    "\n",
    "    def preparar_datos(self):\n",
    "        try:\n",
    "            # Excluir columnas no necesarias\n",
    "            columnas_a_eliminar = ['id', 'NAME', 'host id', 'host name', 'neighbourhood', \n",
    "                                    'country code', 'country', 'house_rules', 'license']\n",
    "            datos_preparados = self.datos.drop(columns=columnas_a_eliminar)\n",
    "            logging.info(\"Columnas no necesarias eliminadas.\")\n",
    "            return datos_preparados\n",
    "        except Exception as e:\n",
    "            logging.error(f\"Error al preparar los datos: {e}\")\n",
    "            return None\n",
    "\n",
    "    def dividir_datos(self, test_size=0.2, val_size=0.2, random_state=42):\n",
    "        try:\n",
    "            datos_preparados = self.preparar_datos()\n",
    "            X = datos_preparados.drop('price', axis=1)\n",
    "            y = datos_preparados['price']\n",
    "\n",
    "            # Primero dividimos en entrenamiento y prueba\n",
    "            X_train, X_test, y_train, y_test = train_test_split(\n",
    "                X, y, test_size=test_size, random_state=random_state)\n",
    "\n",
    "            # Ajuste del tamaño de validación\n",
    "            val_size_adjusted = val_size / (1 - test_size)\n",
    "\n",
    "            # Dividir el conjunto de entrenamiento en entrenamiento y validación\n",
    "            X_train, X_val, y_train, y_val = train_test_split(\n",
    "                X_train, y_train, test_size=val_size_adjusted, random_state=random_state)\n",
    "\n",
    "            logging.info(\"Datos divididos en entrenamiento, validación y prueba.\")\n",
    "            return X_train, X_val, X_test, y_train, y_val, y_test\n",
    "        except Exception as e:\n",
    "            logging.error(f\"Error al dividir los datos: {e}\")\n",
    "            return None, None, None, None, None, None"
   ],
   "metadata": {
    "collapsed": false,
    "ExecuteTime": {
     "end_time": "2024-01-26T23:16:12.929842Z",
     "start_time": "2024-01-26T23:16:12.870811Z"
    }
   },
   "id": "5d95c6bab0622367",
   "execution_count": 11
  },
  {
   "cell_type": "code",
   "outputs": [
    {
     "name": "stderr",
     "output_type": "stream",
     "text": [
      "2024-01-27 00:16:13,684 - INFO - Divisor de datos creado.\n",
      "2024-01-27 00:16:13,689 - INFO - Columnas no necesarias eliminadas.\n",
      "2024-01-27 00:16:13,719 - INFO - Datos divididos en entrenamiento, validación y prueba.\n"
     ]
    }
   ],
   "source": [
    "# Uso del divisor de datos\n",
    "\n",
    "divisor = DivisorDeDatos(datos_transformados)\n",
    "X_train, X_val, X_test, y_train, y_val, y_test = divisor.dividir_datos()"
   ],
   "metadata": {
    "collapsed": false,
    "ExecuteTime": {
     "end_time": "2024-01-26T23:16:13.728717Z",
     "start_time": "2024-01-26T23:16:13.685913Z"
    }
   },
   "id": "c0a42c815febda84",
   "execution_count": 12
  },
  {
   "cell_type": "code",
   "outputs": [],
   "source": [
    "import mlflow\n",
    "import mlflow.sklearn\n",
    "from sklearn.model_selection import GridSearchCV\n",
    "from sklearn.metrics import mean_squared_error, mean_absolute_error, r2_score\n",
    "import numpy as np\n",
    "import logging\n",
    "from sklearn.linear_model import LinearRegression\n",
    "from sklearn.ensemble import RandomForestRegressor\n",
    "\n",
    "class ModeloDePrediccion:\n",
    "    def __init__(self, X_train, y_train, X_val, y_val):\n",
    "        self.X_train = X_train\n",
    "        self.y_train = y_train\n",
    "        self.X_val = X_val\n",
    "        self.y_val = y_val\n",
    "        logging.info(\"Modelo de predicción inicializado.\")\n",
    "        mlflow.set_experiment('Predicción de Precios de Airbnb')\n",
    "\n",
    "    def entrenar_modelo(self, modelo, parametros, modelo_nombre='Modelo'):\n",
    "        with mlflow.start_run():\n",
    "            try:\n",
    "                grid_search = GridSearchCV(modelo, parametros, cv=5, scoring='neg_mean_squared_error', return_train_score=True)\n",
    "                grid_search.fit(self.X_train, self.y_train)\n",
    "                mejor_modelo = grid_search.best_estimator_\n",
    "                logging.info(\"Mejor modelo encontrado: {}\".format(mejor_modelo))\n",
    "\n",
    "                # Log de parámetros y métricas\n",
    "                mlflow.log_params(grid_search.best_params_)\n",
    "                rmse, mae, r2 = self.evaluar_modelo(mejor_modelo)\n",
    "                mlflow.log_metric(\"rmse\", rmse)\n",
    "                mlflow.log_metric(\"mae\", mae)\n",
    "                mlflow.log_metric(\"r2\", r2)\n",
    "\n",
    "                # Guardar el modelo\n",
    "                mlflow.sklearn.log_model(mejor_modelo, modelo_nombre)\n",
    "\n",
    "                return mejor_modelo\n",
    "            except Exception as e:\n",
    "                logging.error(f\"Error durante el entrenamiento del modelo: {e}\")\n",
    "                return None\n",
    "\n",
    "    def evaluar_modelo(self, modelo):\n",
    "        try:\n",
    "            predicciones = modelo.predict(self.X_val)\n",
    "            rmse = np.sqrt(mean_squared_error(self.y_val, predicciones))\n",
    "            mae = mean_absolute_error(self.y_val, predicciones)\n",
    "            r2 = r2_score(self.y_val, predicciones)\n",
    "            logging.info(f\"Evaluación del modelo - RMSE: {rmse}, MAE: {mae}, R²: {r2}\")\n",
    "            return rmse, mae, r2\n",
    "        except Exception as e:\n",
    "            logging.error(f\"Error durante la evaluación del modelo: {e}\")\n",
    "            return None, None, None"
   ],
   "metadata": {
    "collapsed": false,
    "ExecuteTime": {
     "end_time": "2024-01-26T23:17:05.685947Z",
     "start_time": "2024-01-26T23:17:05.672726Z"
    }
   },
   "id": "4aa9b748288eac67",
   "execution_count": 19
  },
  {
   "cell_type": "code",
   "outputs": [
    {
     "name": "stderr",
     "output_type": "stream",
     "text": [
      "2024-01-27 00:17:06,141 - INFO - Modelo de predicción inicializado.\n"
     ]
    }
   ],
   "source": [
    "# Uso del modelo de predicción\n",
    "\n",
    "modelo = ModeloDePrediccion(X_train, y_train, X_val, y_val)"
   ],
   "metadata": {
    "collapsed": false,
    "ExecuteTime": {
     "end_time": "2024-01-26T23:17:06.155351Z",
     "start_time": "2024-01-26T23:17:06.143003Z"
    }
   },
   "id": "a587e4f0bf2ac54b",
   "execution_count": 20
  },
  {
   "cell_type": "code",
   "outputs": [
    {
     "name": "stderr",
     "output_type": "stream",
     "text": [
      "2024-01-27 00:17:10,490 - INFO - Mejor modelo encontrado: LinearRegression(fit_intercept=False)\n",
      "2024-01-27 00:17:10,509 - INFO - Evaluación del modelo - RMSE: 32.5188089413782, MAE: 3.406440138361575, R²: 0.9903475100373513\n",
      "2024-01-27 00:17:12,892 - INFO - Evaluación del modelo - RMSE: 32.5188089413782, MAE: 3.406440138361575, R²: 0.9903475100373513\n"
     ]
    }
   ],
   "source": [
    "# Parámetros para la regresión lineal (puedes ajustar estos según tus necesidades)\n",
    "parametros_rl = {'fit_intercept': [True, False]}\n",
    "\n",
    "# Entrenar y encontrar el mejor modelo de regresión lineal\n",
    "mejor_rl = modelo.entrenar_modelo(LinearRegression(), parametros_rl)\n",
    "\n",
    "# Evaluar el mejor modelo de regresión lineal\n",
    "rmse_rf, mae_rf, r2_rf = modelo.evaluar_modelo(mejor_rl)"
   ],
   "metadata": {
    "collapsed": false,
    "ExecuteTime": {
     "end_time": "2024-01-26T23:17:13.011015Z",
     "start_time": "2024-01-26T23:17:07.412726Z"
    }
   },
   "id": "b34f41fe3d8b0851",
   "execution_count": 21
  },
  {
   "cell_type": "code",
   "outputs": [],
   "source": [
    "# Parámetros para el random forest (puedes ajustar estos según tus necesidades)\n",
    "parametros_rf = {'n_estimators': [100, 200, 300],\n",
    "                 'max_depth': [10, 20, 30],\n",
    "                 'min_samples_split': [2, 5, 10],\n",
    "                 'min_samples_leaf': [1, 2, 4]}\n",
    "# Entrenar y encontrar el mejor modelo de random forest\n",
    "mejor_rf = modelo.entrenar_modelo(RandomForestRegressor(), parametros_rf)\n",
    "\n",
    "# Evaluar el mejor modelo de random forest\n",
    "rmse_rf, mae_rf, r2_rf = modelo.evaluar_modelo(mejor_rf)"
   ],
   "metadata": {
    "collapsed": false,
    "ExecuteTime": {
     "start_time": "2024-01-26T00:31:08.436253Z"
    }
   },
   "id": "de5e1bcbfaf1386d"
  },
  {
   "cell_type": "code",
   "outputs": [],
   "source": [
    "# Guardar el mejor modelo\n",
    "\n",
    "import pickle\n",
    "\n",
    "with open('mejor_modelo.pkl', 'wb') as archivo:\n",
    "    pickle.dump(mejor_rl, archivo)"
   ],
   "metadata": {
    "collapsed": false,
    "ExecuteTime": {
     "end_time": "2024-01-26T23:17:23.306024Z",
     "start_time": "2024-01-26T23:17:23.289744Z"
    }
   },
   "id": "877306bab620abcd",
   "execution_count": 22
  },
  {
   "cell_type": "code",
   "outputs": [],
   "source": [
    "# Haga sus predicciones\n",
    "\n",
    "import pickle\n",
    "\n",
    "mejor_rl = \"/Users/adrianinfantes/Desktop/AIR/CollegeStudies/MachineLearningPath/Portfolio/AirbnbProjects/NyAirbnb/model/mejor_modelo.pkl\"\n",
    "\n",
    "with open(mejor_rl, 'rb') as archivo:\n",
    "    mejor_modelo = pickle.load(archivo)\n",
    "\n",
    "def predecir_precio(datos):\n",
    "    try:\n",
    "        predicciones = mejor_modelo.predict(datos)\n",
    "        return predicciones\n",
    "    except Exception as e:\n",
    "        logging.error(f\"Error al predecir el precio: {e}\")\n",
    "        return None"
   ],
   "metadata": {
    "collapsed": false,
    "ExecuteTime": {
     "end_time": "2024-01-26T23:17:31.683055Z",
     "start_time": "2024-01-26T23:17:31.678967Z"
    }
   },
   "id": "1a69a9d49b75bcaf",
   "execution_count": 23
  },
  {
   "cell_type": "code",
   "outputs": [
    {
     "name": "stdout",
     "output_type": "stream",
     "text": [
      "[ 606.7240515   541.00282054  202.93558137  865.06787435 1192.42282101]\n"
     ]
    }
   ],
   "source": [
    "# Uso de la función de predicción\n",
    "\n",
    "datos_prueba = X_test.iloc[0:5]\n",
    "predicciones = predecir_precio(datos_prueba)\n",
    "print(predicciones)"
   ],
   "metadata": {
    "collapsed": false,
    "ExecuteTime": {
     "end_time": "2024-01-26T23:17:37.595488Z",
     "start_time": "2024-01-26T23:17:37.579406Z"
    }
   },
   "id": "ebd1a9cad10aee50",
   "execution_count": 24
  },
  {
   "cell_type": "code",
   "outputs": [],
   "source": [],
   "metadata": {
    "collapsed": false
   },
   "id": "b7910ee3517bdd0e"
  }
 ],
 "metadata": {
  "kernelspec": {
   "display_name": "Python 3",
   "language": "python",
   "name": "python3"
  },
  "language_info": {
   "codemirror_mode": {
    "name": "ipython",
    "version": 2
   },
   "file_extension": ".py",
   "mimetype": "text/x-python",
   "name": "python",
   "nbconvert_exporter": "python",
   "pygments_lexer": "ipython2",
   "version": "2.7.6"
  }
 },
 "nbformat": 4,
 "nbformat_minor": 5
}
